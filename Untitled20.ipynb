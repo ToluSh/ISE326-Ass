{
  "nbformat": 4,
  "nbformat_minor": 0,
  "metadata": {
    "colab": {
      "provenance": [],
      "authorship_tag": "ABX9TyPNFdSKcnnz1tfoKQWlT3II",
      "include_colab_link": true
    },
    "kernelspec": {
      "name": "python3",
      "display_name": "Python 3"
    },
    "language_info": {
      "name": "python"
    }
  },
  "cells": [
    {
      "cell_type": "markdown",
      "metadata": {
        "id": "view-in-github",
        "colab_type": "text"
      },
      "source": [
        "<a href=\"https://colab.research.google.com/github/ToluSh/ISE326-Ass/blob/main/Untitled20.ipynb\" target=\"_parent\"><img src=\"https://colab.research.google.com/assets/colab-badge.svg\" alt=\"Open In Colab\"/></a>"
      ]
    },
    {
      "cell_type": "code",
      "execution_count": 60,
      "metadata": {
        "colab": {
          "base_uri": "https://localhost:8080/"
        },
        "id": "XTTwg5Z4fS89",
        "outputId": "738bce48-9592-4452-9ff9-7f16df6681bb"
      },
      "outputs": [
        {
          "output_type": "stream",
          "name": "stdout",
          "text": [
            "2401\n"
          ]
        }
      ],
      "source": [
        "##**1. What is 7 to the power of 4?**##\n",
        "x = 7\n",
        "y = 4\n",
        "z = x ** y\n",
        "print(z)"
      ]
    },
    {
      "cell_type": "code",
      "source": [
        "##**2. Split this string:\n",
        "##s = \"Hi there Sam!\"\n",
        "##into a list.**##\n",
        "\n",
        "s = \"Hi there Sam!\"\n",
        "s_split = s.split()\n",
        "print(s_split)"
      ],
      "metadata": {
        "colab": {
          "base_uri": "https://localhost:8080/"
        },
        "id": "P32XurpafvwG",
        "outputId": "5986eae4-fd52-4cbc-d53c-2140fa263c1f"
      },
      "execution_count": 61,
      "outputs": [
        {
          "output_type": "stream",
          "name": "stdout",
          "text": [
            "['Hi', 'there', 'Sam!']\n"
          ]
        }
      ]
    },
    {
      "cell_type": "code",
      "source": [
        "##3. Given the variables:**\n",
        "##planet = \"Earth\"\n",
        "##diameter = 12742\n",
        "##Use .format() to print the following string: **\n",
        "##The diameter of Earth is 12742 kilometers.\n",
        "##planet = \"Earth\"\n",
        "##diameter = 12742\n",
        "\n",
        "planet = \"Earth\"\n",
        "diameter = 12742\n",
        "\n",
        "st_f = \"The diameter of {} is {} kilometers\".format(planet, diameter)\n",
        "print(st_f)"
      ],
      "metadata": {
        "colab": {
          "base_uri": "https://localhost:8080/"
        },
        "id": "lfcJHWfbgWPv",
        "outputId": "31bbebb1-c759-4a91-c063-bd79ff5dbc0b"
      },
      "execution_count": 62,
      "outputs": [
        {
          "output_type": "stream",
          "name": "stdout",
          "text": [
            "The diameter of Earth is 12742 kilometers\n"
          ]
        }
      ]
    },
    {
      "cell_type": "code",
      "source": [
        "##**4. Given this nested list, use indexing to grab the word \"hello\"**\n",
        "##Code cell <undefined>\n",
        "## %% [code]\n",
        "##lst = [1,2,[3,4],[5,[100,200,['hello']],23,11],1,7]\n",
        "\n",
        "lst = [1,2,[3,4],[5,[100,200,['hello']],23,11],1,7]\n",
        "print(lst[3][1][2])"
      ],
      "metadata": {
        "colab": {
          "base_uri": "https://localhost:8080/"
        },
        "id": "yZrVwRD3hfI5",
        "outputId": "ae0d6f73-530f-4a62-eebd-eec6330d01d0"
      },
      "execution_count": 63,
      "outputs": [
        {
          "output_type": "stream",
          "name": "stdout",
          "text": [
            "['hello']\n"
          ]
        }
      ]
    },
    {
      "cell_type": "code",
      "source": [
        "##**5. Given this nested dictionary grab the word \"hello\". Be prepared, this will be annoying/tricky**\n",
        "##d = {'k1':[1,2,3,{'tricky':['oh','man','inception',{'target':[1,2,3,'hello']}]}]}\n",
        "\n",
        "d = {'k1':[1,2,3,{'tricky':['oh','man','inception',{'target':[1,2,3,'hello']}]}]}\n",
        "dv = d['k1'][3]\n",
        "dvv = dv['tricky'][3]\n",
        "dvvv = dvv['target'][3]\n",
        "print(dvvv)"
      ],
      "metadata": {
        "colab": {
          "base_uri": "https://localhost:8080/"
        },
        "id": "Qs2csshIkkTM",
        "outputId": "38a75867-d6eb-4ff2-ca0a-7ea3dca96f44"
      },
      "execution_count": 80,
      "outputs": [
        {
          "output_type": "stream",
          "name": "stdout",
          "text": [
            "hello\n"
          ]
        }
      ]
    },
    {
      "cell_type": "code",
      "source": [
        "##**6. What is the main difference between a tuple and a list?**\n",
        "\n",
        "answer = \"Tuple is immutable\"\n",
        "print(answer)"
      ],
      "metadata": {
        "colab": {
          "base_uri": "https://localhost:8080/"
        },
        "id": "J3ivtLywrQUl",
        "outputId": "ee10a2be-74f1-4d91-8005-cc07c0496b39"
      },
      "execution_count": 81,
      "outputs": [
        {
          "output_type": "stream",
          "name": "stdout",
          "text": [
            "Tuple is immutable\n"
          ]
        }
      ]
    },
    {
      "cell_type": "code",
      "source": [
        "##**7. Create a function that grabs the email website domain from a string in the form:**\n",
        "##user@domain.com\n",
        "##**So for example, passing \"user@domain.com\" would return: domain.com**\n",
        "\n",
        "def domainGet(s):\n",
        "    return s.split('@')[-1]\n",
        "\n",
        "domainGet('user@domain.com')"
      ],
      "metadata": {
        "colab": {
          "base_uri": "https://localhost:8080/",
          "height": 35
        },
        "id": "7R3dXJhCrlIY",
        "outputId": "3844a86c-2953-448b-f358-fe41cc530a65"
      },
      "execution_count": 115,
      "outputs": [
        {
          "output_type": "execute_result",
          "data": {
            "text/plain": [
              "'domain.com'"
            ],
            "application/vnd.google.colaboratory.intrinsic+json": {
              "type": "string"
            }
          },
          "metadata": {},
          "execution_count": 115
        }
      ]
    },
    {
      "cell_type": "code",
      "source": [
        "##**8. Create a basic function that returns True if the word 'dog' is contained in the input string. Importantly, the function should not distinguish between capitalization. This means that if the input string contains 'doG', the function should still yield True.**\n",
        "\n",
        "def findDog(t):\n",
        "    return 'dog' in t.lower().split()\n",
        "\n",
        "findDog('Is there a dog here?')\n",
        "\n"
      ],
      "metadata": {
        "colab": {
          "base_uri": "https://localhost:8080/"
        },
        "id": "wiHVIaVm2jNt",
        "outputId": "04f4d2cf-1b1d-4799-83c2-f2fec1839f2b"
      },
      "execution_count": 116,
      "outputs": [
        {
          "output_type": "execute_result",
          "data": {
            "text/plain": [
              "True"
            ]
          },
          "metadata": {},
          "execution_count": 116
        }
      ]
    },
    {
      "cell_type": "code",
      "source": [
        "##**9. Create a function that counts the number of times the word \"dog\" occurs in a string.**\n",
        "\n",
        "def countDog(s):\n",
        "    return s.count('dog')\n",
        "\n",
        "countDog('This dog runs faster than the other dog dude!')"
      ],
      "metadata": {
        "colab": {
          "base_uri": "https://localhost:8080/"
        },
        "id": "j3OLtn8M3FHi",
        "outputId": "4fbc0b0d-4d35-4e9f-c72c-f15ecd3dec4f"
      },
      "execution_count": 118,
      "outputs": [
        {
          "output_type": "execute_result",
          "data": {
            "text/plain": [
              "2"
            ]
          },
          "metadata": {},
          "execution_count": 118
        }
      ]
    },
    {
      "cell_type": "code",
      "source": [
        "##**10. Use lambda expressions and the filter() function to filter out words from a list that don't start with the letter 's'. For example:*\n",
        "##seq = ['soup','dog','salad','cat','great']\n",
        "##**should be filtered down to:**\n",
        "##['soup','salad']\n",
        "\n",
        "seq = ['soup','dog','salad','cat','great']\n",
        "list(filter(lambda x: x[0] == 's', seq))"
      ],
      "metadata": {
        "colab": {
          "base_uri": "https://localhost:8080/"
        },
        "id": "K0PTrsnh4hcY",
        "outputId": "0026f11b-796a-41b3-99f4-16904dbc13bc"
      },
      "execution_count": 124,
      "outputs": [
        {
          "output_type": "execute_result",
          "data": {
            "text/plain": [
              "['soup', 'salad']"
            ]
          },
          "metadata": {},
          "execution_count": 124
        }
      ]
    },
    {
      "cell_type": "code",
      "source": [
        "##**11. Final Problem**\n",
        "##**You are driving a little too fast, and a police officer stops you. Write a function to return one of 3 possible results: \"No ticket\", \"Small ticket\", or \"Big Ticket\". If your speed is 60 or less, the result is \"No Ticket\". If speed is between 61\n",
        "##and 80 inclusive, the result is \"Small Ticket\". If speed is 81 or more, the result is \"Big    Ticket\". Unless it is your birthday (encoded as a boolean value in the parameters of the function) -- on your birthday, your speed can be 5 higher in all  cases.**\n",
        "\n",
        "def caught_speeding(speed, is_birthday):\n",
        "\n",
        "    if is_birthday:\n",
        "        speeding = speed - 5\n",
        "    else:\n",
        "        speeding = speed\n",
        "\n",
        "    if speeding > 80:\n",
        "        return 'Big Ticket'\n",
        "    elif speeding > 60:\n",
        "        return 'Small Ticket'\n",
        "    else:\n",
        "        return 'No Ticket'\n",
        "\n",
        "print(caught_speeding(81,True))\n",
        "print(caught_speeding(81,False))"
      ],
      "metadata": {
        "colab": {
          "base_uri": "https://localhost:8080/"
        },
        "id": "YoHnHxx-7v8v",
        "outputId": "3d934bb5-5fad-4013-856a-5b6b42581e82"
      },
      "execution_count": 5,
      "outputs": [
        {
          "output_type": "stream",
          "name": "stdout",
          "text": [
            "Small Ticket\n",
            "Big Ticket\n"
          ]
        }
      ]
    }
  ]
}